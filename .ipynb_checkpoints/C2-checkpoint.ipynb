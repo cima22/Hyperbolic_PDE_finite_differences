{
 "cells": [
  {
   "cell_type": "markdown",
   "metadata": {
    "colab_type": "text",
    "id": "view-in-github"
   },
   "source": [
    "<a href=\"https://colab.research.google.com/github/andreacangiani/NSPDE-ANA22/blob/main/python/C2.ipynb\" target=\"_parent\"><img src=\"https://colab.research.google.com/assets/colab-badge.svg\" alt=\"Open In Colab\"/></a>"
   ]
  },
  {
   "cell_type": "markdown",
   "metadata": {
    "id": "WLd_JqUTLlx7"
   },
   "source": [
    "# Divided differences using sparse matrix"
   ]
  },
  {
   "cell_type": "markdown",
   "metadata": {
    "id": "lAvcakieLgH4"
   },
   "source": [
    "Import the usual modules"
   ]
  },
  {
   "cell_type": "code",
   "execution_count": 1,
   "metadata": {
    "id": "UhR8FV_9KpLl"
   },
   "outputs": [],
   "source": [
    "import numpy as np\n",
    "import matplotlib.pyplot as plt\n",
    "import sympy as sym"
   ]
  },
  {
   "cell_type": "markdown",
   "metadata": {
    "id": "TEsSBeGDMz-9"
   },
   "source": [
    "New module: sparse algebra"
   ]
  },
  {
   "cell_type": "code",
   "execution_count": 2,
   "metadata": {
    "id": "knW_Lj85M3g2"
   },
   "outputs": [],
   "source": [
    "import scipy.sparse as sp"
   ]
  },
  {
   "cell_type": "markdown",
   "metadata": {
    "id": "AOx_KN1HLSBn"
   },
   "source": [
    "Function implementing the forward difference in sparse format"
   ]
  },
  {
   "cell_type": "code",
   "execution_count": 3,
   "metadata": {
    "id": "bPMMOZh0LRd5"
   },
   "outputs": [],
   "source": [
    "def forward_difference(a, b, N):\n",
    "    h = (b-a)/N\n",
    " \n",
    "    # Compute FD matrix as sparse using Compressed Sparse Row (CSR) format \n",
    "    data = [-np.ones(N+1), np.ones(N)]\n",
    "    FD = sp.diags(data,[0,1], format=\"csr\")\n",
    "    return FD / h"
   ]
  },
  {
   "cell_type": "code",
   "execution_count": 4,
   "metadata": {
    "id": "DJ6b0gTXR63S"
   },
   "outputs": [],
   "source": [
    "a=0\n",
    "b=1\n",
    "N=5\n",
    "FD = forward_difference(a, b, N)"
   ]
  },
  {
   "cell_type": "code",
   "execution_count": 5,
   "metadata": {
    "id": "kecwHOrVSNSK"
   },
   "outputs": [
    {
     "name": "stdout",
     "output_type": "stream",
     "text": [
      "  (0, 0)\t-5.0\n",
      "  (0, 1)\t5.0\n",
      "  (1, 1)\t-5.0\n",
      "  (1, 2)\t5.0\n",
      "  (2, 2)\t-5.0\n",
      "  (2, 3)\t5.0\n",
      "  (3, 3)\t-5.0\n",
      "  (3, 4)\t5.0\n",
      "  (4, 4)\t-5.0\n",
      "  (4, 5)\t5.0\n",
      "  (5, 5)\t-5.0\n"
     ]
    }
   ],
   "source": [
    "print (FD)"
   ]
  },
  {
   "cell_type": "code",
   "execution_count": 6,
   "metadata": {
    "id": "lUfU966YSY9U"
   },
   "outputs": [
    {
     "name": "stdout",
     "output_type": "stream",
     "text": [
      "[[-5.  5.  0.  0.  0.  0.]\n",
      " [ 0. -5.  5.  0.  0.  0.]\n",
      " [ 0.  0. -5.  5.  0.  0.]\n",
      " [ 0.  0.  0. -5.  5.  0.]\n",
      " [ 0.  0.  0.  0. -5.  5.]\n",
      " [ 0.  0.  0.  0.  0. -5.]]\n"
     ]
    }
   ],
   "source": [
    "print(FD.todense())"
   ]
  },
  {
   "cell_type": "markdown",
   "metadata": {
    "id": "vFJoKMnYMThw"
   },
   "source": [
    "Use the FD to evaluate the derivative of $f(x)=\\frac{x^2}{2}$"
   ]
  },
  {
   "cell_type": "code",
   "execution_count": 15,
   "metadata": {
    "id": "6Nq2C60jL6PZ"
   },
   "outputs": [
    {
     "data": {
      "text/plain": [
       "[<matplotlib.lines.Line2D at 0x7f374b450340>]"
      ]
     },
     "execution_count": 15,
     "metadata": {},
     "output_type": "execute_result"
    },
    {
     "data": {
      "image/png": "[encoded data removed]",
      "text/plain": [
       "<Figure size 432x288 with 1 Axes>"
      ]
     },
     "metadata": {
      "needs_background": "light"
     },
     "output_type": "display_data"
    }
   ],
   "source": [
    "t = sym.var('t')\n",
    "my_f = 0.5 * t**2\n",
    "fsym = sym.lambdify(t, my_f )\n",
    "\n",
    "a=0 \n",
    "b=1\n",
    "N = 100\n",
    "\n",
    "# Evaluate FD matrix\n",
    "FD = forward_difference(a, b, N)\n",
    "\n",
    "# Values of the derivative at the \n",
    "# internal grid points\n",
    "x=np.linspace(0,1,N+1)\n",
    "\n",
    "u_x = FD.dot(fsym(x))[:N]\n",
    "# Print results\n",
    "plt.plot(x[:N],u_x)"
   ]
  },
  {
   "cell_type": "markdown",
   "metadata": {
    "id": "8sObv8G9YSof"
   },
   "source": [
    "**Exercise.** Find a way to evaluate execution time and compare full vs sparse exectution time"
   ]
  },
  {
   "cell_type": "markdown",
   "metadata": {
    "id": "3EVlhgPcKty_"
   },
   "source": [
    "# Central finite differences in 1D"
   ]
  },
  {
   "cell_type": "markdown",
   "metadata": {
    "id": "cPX73u-NK2Pq"
   },
   "source": [
    "Poisson problem in 1D:\n",
    "\n",
    "$-u''(x)=f(x) \\quad \\in (a,b)$\n",
    "\n",
    "$u(a)=0, \\quad u(b)=0$\n",
    "\n",
    "We use the second central divided difference to approxima the second derivative.\n",
    "\n",
    "Given $h>0$, \n",
    "\n",
    "$u''(x)≈\\frac{u(x+h)-2u(x)+u(x-h)}{h^2}$"
   ]
  },
  {
   "cell_type": "markdown",
   "metadata": {
    "id": "Uf1tUssmNf7d"
   },
   "source": [
    "Function for second central matrix"
   ]
  },
  {
   "cell_type": "code",
   "execution_count": 16,
   "metadata": {
    "id": "6AkrOqiXNcTJ"
   },
   "outputs": [],
   "source": [
    "def CD2(N):\n",
    "    # Function defining nominator of\n",
    "    # second central FD formula on a \n",
    "    # uniform grid in sparse CSR format\n",
    "    data = [np.ones(N), -2 * np.ones(N+1), np.ones(N)]\n",
    "    return sp.diags(data,[-1,0,1], format=\"csr\")"
   ]
  },
  {
   "cell_type": "code",
   "execution_count": 17,
   "metadata": {
    "id": "KUOiecYxW5ES"
   },
   "outputs": [
    {
     "name": "stdout",
     "output_type": "stream",
     "text": [
      "[[-2.  1.  0.  0.  0.  0.]\n",
      " [ 1. -2.  1.  0.  0.  0.]\n",
      " [ 0.  1. -2.  1.  0.  0.]\n",
      " [ 0.  0.  1. -2.  1.  0.]\n",
      " [ 0.  0.  0.  1. -2.  1.]\n",
      " [ 0.  0.  0.  0.  1. -2.]]\n"
     ]
    }
   ],
   "source": [
    "N = 5\n",
    "A = CD2(N)\n",
    "\n",
    "print(A.todense())"
   ]
  },
  {
   "cell_type": "markdown",
   "metadata": {
    "id": "kQFF0QdiNvCt"
   },
   "source": [
    "Test problem:\n",
    "\n",
    "$(a,b)=(0,\\pi)$\n",
    "\n",
    "u(x)=sin(x)"
   ]
  },
  {
   "cell_type": "code",
   "execution_count": 18,
   "metadata": {
    "id": "6o6A_IUkNuMG"
   },
   "outputs": [],
   "source": [
    "# Define right-hand side function\n",
    "t = sym.var('t')\n",
    "my_f = sym.sin(t)\n",
    "rhs_f = sym.lambdify(t, my_f )\n",
    "\n",
    "# Define exact solution\n",
    "my_sol = sym.sin(t)\n",
    "exact_sol = sym.lambdify(t, my_sol )"
   ]
  },
  {
   "cell_type": "markdown",
   "metadata": {
    "id": "SWzKNz0vOOWW"
   },
   "source": [
    "Define FD problem:\n",
    "\n",
    "for $h=(b-a)/N$\n",
    "\n",
    "$ A U = - h^2 F $\n",
    "\n",
    "with $A$ the nominator of CD formula."
   ]
  },
  {
   "cell_type": "code",
   "execution_count": 19,
   "metadata": {
    "id": "9ZJJbGtGOME1"
   },
   "outputs": [],
   "source": [
    "# Problem domain\n",
    "from scipy.sparse.linalg import spsolve\n",
    "def pois_prob(a = 0, b = np.pi, N = 20):\n",
    "\n",
    "    # Size of grid\n",
    "    h = (b-a)/N\n",
    "\n",
    "    # Grid\n",
    "    x = np.linspace(a,b,N+1)\n",
    "\n",
    "    # CD matrix\n",
    "    A = CD2(N)\n",
    "\n",
    "    # Right-hand side\n",
    "    F = - h**2 * rhs_f(x[1:-1])\n",
    "\n",
    "    # Homogeneous Dirichlet boundary conditions\n",
    "    A = A[1:-1,1:-1]\n",
    "    FD_sol = spsolve(A,F)\n",
    "    return FD_sol"
   ]
  },
  {
   "cell_type": "markdown",
   "metadata": {
    "id": "AKmPecQMO4Kr"
   },
   "source": [
    "Solve problem and print result"
   ]
  },
  {
   "cell_type": "code",
   "execution_count": 22,
   "metadata": {
    "colab": {
     "base_uri": "https://localhost:8080/",
     "height": 283
    },
    "id": "l7B-YKy9O5jF",
    "outputId": "b1bb3808-b174-4fb3-8896-1a1cf220a3fa"
   },
   "outputs": [
    {
     "ename": "ValueError",
     "evalue": "x and y must have same first dimension, but have shapes (4,) and (5,)",
     "output_type": "error",
     "traceback": [
      "\u001b[0;31m---------------------------------------------------------------------------\u001b[0m",
      "\u001b[0;31mValueError\u001b[0m                                Traceback (most recent call last)",
      "\u001b[0;32m/tmp/ipykernel_24672/2024107050.py\u001b[0m in \u001b[0;36m<module>\u001b[0;34m\u001b[0m\n\u001b[1;32m      3\u001b[0m \u001b[0;31m# plot solution\u001b[0m\u001b[0;34m\u001b[0m\u001b[0;34m\u001b[0m\u001b[0m\n\u001b[1;32m      4\u001b[0m \u001b[0mx\u001b[0m \u001b[0;34m=\u001b[0m \u001b[0mnp\u001b[0m\u001b[0;34m.\u001b[0m\u001b[0mlinspace\u001b[0m\u001b[0;34m(\u001b[0m\u001b[0ma\u001b[0m\u001b[0;34m,\u001b[0m\u001b[0mb\u001b[0m\u001b[0;34m,\u001b[0m\u001b[0mN\u001b[0m\u001b[0;34m+\u001b[0m\u001b[0;36m1\u001b[0m\u001b[0;34m)\u001b[0m\u001b[0;34m\u001b[0m\u001b[0;34m\u001b[0m\u001b[0m\n\u001b[0;32m----> 5\u001b[0;31m \u001b[0mplt\u001b[0m\u001b[0;34m.\u001b[0m\u001b[0mplot\u001b[0m\u001b[0;34m(\u001b[0m\u001b[0mx\u001b[0m\u001b[0;34m[\u001b[0m\u001b[0;36m1\u001b[0m\u001b[0;34m:\u001b[0m\u001b[0;34m-\u001b[0m\u001b[0;36m1\u001b[0m\u001b[0;34m]\u001b[0m\u001b[0;34m,\u001b[0m\u001b[0mFD_sol\u001b[0m\u001b[0;34m)\u001b[0m\u001b[0;34m\u001b[0m\u001b[0;34m\u001b[0m\u001b[0m\n\u001b[0m",
      "\u001b[0;32m/usr/lib/python3/dist-packages/matplotlib/pyplot.py\u001b[0m in \u001b[0;36mplot\u001b[0;34m(scalex, scaley, data, *args, **kwargs)\u001b[0m\n\u001b[1;32m   2755\u001b[0m \u001b[0;34m@\u001b[0m\u001b[0m_copy_docstring_and_deprecators\u001b[0m\u001b[0;34m(\u001b[0m\u001b[0mAxes\u001b[0m\u001b[0;34m.\u001b[0m\u001b[0mplot\u001b[0m\u001b[0;34m)\u001b[0m\u001b[0;34m\u001b[0m\u001b[0;34m\u001b[0m\u001b[0m\n\u001b[1;32m   2756\u001b[0m \u001b[0;32mdef\u001b[0m \u001b[0mplot\u001b[0m\u001b[0;34m(\u001b[0m\u001b[0;34m*\u001b[0m\u001b[0margs\u001b[0m\u001b[0;34m,\u001b[0m \u001b[0mscalex\u001b[0m\u001b[0;34m=\u001b[0m\u001b[0;32mTrue\u001b[0m\u001b[0;34m,\u001b[0m \u001b[0mscaley\u001b[0m\u001b[0;34m=\u001b[0m\u001b[0;32mTrue\u001b[0m\u001b[0;34m,\u001b[0m \u001b[0mdata\u001b[0m\u001b[0;34m=\u001b[0m\u001b[0;32mNone\u001b[0m\u001b[0;34m,\u001b[0m \u001b[0;34m**\u001b[0m\u001b[0mkwargs\u001b[0m\u001b[0;34m)\u001b[0m\u001b[0;34m:\u001b[0m\u001b[0;34m\u001b[0m\u001b[0;34m\u001b[0m\u001b[0m\n\u001b[0;32m-> 2757\u001b[0;31m     return gca().plot(\n\u001b[0m\u001b[1;32m   2758\u001b[0m         \u001b[0;34m*\u001b[0m\u001b[0margs\u001b[0m\u001b[0;34m,\u001b[0m \u001b[0mscalex\u001b[0m\u001b[0;34m=\u001b[0m\u001b[0mscalex\u001b[0m\u001b[0;34m,\u001b[0m \u001b[0mscaley\u001b[0m\u001b[0;34m=\u001b[0m\u001b[0mscaley\u001b[0m\u001b[0;34m,\u001b[0m\u001b[0;34m\u001b[0m\u001b[0;34m\u001b[0m\u001b[0m\n\u001b[1;32m   2759\u001b[0m         **({\"data\": data} if data is not None else {}), **kwargs)\n",
      "\u001b[0;32m/usr/lib/python3/dist-packages/matplotlib/axes/_axes.py\u001b[0m in \u001b[0;36mplot\u001b[0;34m(self, scalex, scaley, data, *args, **kwargs)\u001b[0m\n\u001b[1;32m   1630\u001b[0m         \"\"\"\n\u001b[1;32m   1631\u001b[0m         \u001b[0mkwargs\u001b[0m \u001b[0;34m=\u001b[0m \u001b[0mcbook\u001b[0m\u001b[0;34m.\u001b[0m\u001b[0mnormalize_kwargs\u001b[0m\u001b[0;34m(\u001b[0m\u001b[0mkwargs\u001b[0m\u001b[0;34m,\u001b[0m \u001b[0mmlines\u001b[0m\u001b[0;34m.\u001b[0m\u001b[0mLine2D\u001b[0m\u001b[0;34m)\u001b[0m\u001b[0;34m\u001b[0m\u001b[0;34m\u001b[0m\u001b[0m\n\u001b[0;32m-> 1632\u001b[0;31m         \u001b[0mlines\u001b[0m \u001b[0;34m=\u001b[0m \u001b[0;34m[\u001b[0m\u001b[0;34m*\u001b[0m\u001b[0mself\u001b[0m\u001b[0;34m.\u001b[0m\u001b[0m_get_lines\u001b[0m\u001b[0;34m(\u001b[0m\u001b[0;34m*\u001b[0m\u001b[0margs\u001b[0m\u001b[0;34m,\u001b[0m \u001b[0mdata\u001b[0m\u001b[0;34m=\u001b[0m\u001b[0mdata\u001b[0m\u001b[0;34m,\u001b[0m \u001b[0;34m**\u001b[0m\u001b[0mkwargs\u001b[0m\u001b[0;34m)\u001b[0m\u001b[0;34m]\u001b[0m\u001b[0;34m\u001b[0m\u001b[0;34m\u001b[0m\u001b[0m\n\u001b[0m\u001b[1;32m   1633\u001b[0m         \u001b[0;32mfor\u001b[0m \u001b[0mline\u001b[0m \u001b[0;32min\u001b[0m \u001b[0mlines\u001b[0m\u001b[0;34m:\u001b[0m\u001b[0;34m\u001b[0m\u001b[0;34m\u001b[0m\u001b[0m\n\u001b[1;32m   1634\u001b[0m             \u001b[0mself\u001b[0m\u001b[0;34m.\u001b[0m\u001b[0madd_line\u001b[0m\u001b[0;34m(\u001b[0m\u001b[0mline\u001b[0m\u001b[0;34m)\u001b[0m\u001b[0;34m\u001b[0m\u001b[0;34m\u001b[0m\u001b[0m\n",
      "\u001b[0;32m/usr/lib/python3/dist-packages/matplotlib/axes/_base.py\u001b[0m in \u001b[0;36m__call__\u001b[0;34m(self, data, *args, **kwargs)\u001b[0m\n\u001b[1;32m    310\u001b[0m                 \u001b[0mthis\u001b[0m \u001b[0;34m+=\u001b[0m \u001b[0margs\u001b[0m\u001b[0;34m[\u001b[0m\u001b[0;36m0\u001b[0m\u001b[0;34m]\u001b[0m\u001b[0;34m,\u001b[0m\u001b[0;34m\u001b[0m\u001b[0;34m\u001b[0m\u001b[0m\n\u001b[1;32m    311\u001b[0m                 \u001b[0margs\u001b[0m \u001b[0;34m=\u001b[0m \u001b[0margs\u001b[0m\u001b[0;34m[\u001b[0m\u001b[0;36m1\u001b[0m\u001b[0;34m:\u001b[0m\u001b[0;34m]\u001b[0m\u001b[0;34m\u001b[0m\u001b[0;34m\u001b[0m\u001b[0m\n\u001b[0;32m--> 312\u001b[0;31m             \u001b[0;32myield\u001b[0m \u001b[0;32mfrom\u001b[0m \u001b[0mself\u001b[0m\u001b[0;34m.\u001b[0m\u001b[0m_plot_args\u001b[0m\u001b[0;34m(\u001b[0m\u001b[0mthis\u001b[0m\u001b[0;34m,\u001b[0m \u001b[0mkwargs\u001b[0m\u001b[0;34m)\u001b[0m\u001b[0;34m\u001b[0m\u001b[0;34m\u001b[0m\u001b[0m\n\u001b[0m\u001b[1;32m    313\u001b[0m \u001b[0;34m\u001b[0m\u001b[0m\n\u001b[1;32m    314\u001b[0m     \u001b[0;32mdef\u001b[0m \u001b[0mget_next_color\u001b[0m\u001b[0;34m(\u001b[0m\u001b[0mself\u001b[0m\u001b[0;34m)\u001b[0m\u001b[0;34m:\u001b[0m\u001b[0;34m\u001b[0m\u001b[0;34m\u001b[0m\u001b[0m\n",
      "\u001b[0;32m/usr/lib/python3/dist-packages/matplotlib/axes/_base.py\u001b[0m in \u001b[0;36m_plot_args\u001b[0;34m(self, tup, kwargs, return_kwargs)\u001b[0m\n\u001b[1;32m    496\u001b[0m \u001b[0;34m\u001b[0m\u001b[0m\n\u001b[1;32m    497\u001b[0m         \u001b[0;32mif\u001b[0m \u001b[0mx\u001b[0m\u001b[0;34m.\u001b[0m\u001b[0mshape\u001b[0m\u001b[0;34m[\u001b[0m\u001b[0;36m0\u001b[0m\u001b[0;34m]\u001b[0m \u001b[0;34m!=\u001b[0m \u001b[0my\u001b[0m\u001b[0;34m.\u001b[0m\u001b[0mshape\u001b[0m\u001b[0;34m[\u001b[0m\u001b[0;36m0\u001b[0m\u001b[0;34m]\u001b[0m\u001b[0;34m:\u001b[0m\u001b[0;34m\u001b[0m\u001b[0;34m\u001b[0m\u001b[0m\n\u001b[0;32m--> 498\u001b[0;31m             raise ValueError(f\"x and y must have same first dimension, but \"\n\u001b[0m\u001b[1;32m    499\u001b[0m                              f\"have shapes {x.shape} and {y.shape}\")\n\u001b[1;32m    500\u001b[0m         \u001b[0;32mif\u001b[0m \u001b[0mx\u001b[0m\u001b[0;34m.\u001b[0m\u001b[0mndim\u001b[0m \u001b[0;34m>\u001b[0m \u001b[0;36m2\u001b[0m \u001b[0;32mor\u001b[0m \u001b[0my\u001b[0m\u001b[0;34m.\u001b[0m\u001b[0mndim\u001b[0m \u001b[0;34m>\u001b[0m \u001b[0;36m2\u001b[0m\u001b[0;34m:\u001b[0m\u001b[0;34m\u001b[0m\u001b[0;34m\u001b[0m\u001b[0m\n",
      "\u001b[0;31mValueError\u001b[0m: x and y must have same first dimension, but have shapes (4,) and (5,)"
     ]
    },
    {
     "data": {
      "image/png": "[encoded data removed]",
      "text/plain": [
       "<Figure size 432x288 with 1 Axes>"
      ]
     },
     "metadata": {
      "needs_background": "light"
     },
     "output_type": "display_data"
    }
   ],
   "source": [
    "# Compute solution at internal nodes\n",
    "FD_sol = pois_prob(a,b,N+1)\n",
    "# plot solution\n",
    "x = np.linspace(a,b,N+1)\n",
    "plt.plot(x[1:-1],FD_sol)"
   ]
  },
  {
   "cell_type": "code",
   "execution_count": 13,
   "metadata": {
    "id": "UQ9kqgtrZHom"
   },
   "outputs": [
    {
     "ename": "ValueError",
     "evalue": "operands could not be broadcast together with shapes (19,) (4,) ",
     "output_type": "error",
     "traceback": [
      "\u001b[0;31m---------------------------------------------------------------------------\u001b[0m",
      "\u001b[0;31mValueError\u001b[0m                                Traceback (most recent call last)",
      "\u001b[0;32m/tmp/ipykernel_24672/2076519637.py\u001b[0m in \u001b[0;36m<module>\u001b[0;34m\u001b[0m\n\u001b[1;32m      1\u001b[0m \u001b[0;31m# print max error\u001b[0m\u001b[0;34m\u001b[0m\u001b[0;34m\u001b[0m\u001b[0m\n\u001b[1;32m      2\u001b[0m \u001b[0;34m\u001b[0m\u001b[0m\n\u001b[0;32m----> 3\u001b[0;31m \u001b[0mprint\u001b[0m\u001b[0;34m(\u001b[0m\u001b[0mnp\u001b[0m\u001b[0;34m.\u001b[0m\u001b[0mmax\u001b[0m\u001b[0;34m(\u001b[0m\u001b[0mnp\u001b[0m\u001b[0;34m.\u001b[0m\u001b[0mabs\u001b[0m\u001b[0;34m(\u001b[0m\u001b[0mFD_sol\u001b[0m\u001b[0;34m-\u001b[0m\u001b[0mexact_sol\u001b[0m\u001b[0;34m(\u001b[0m\u001b[0mx\u001b[0m\u001b[0;34m[\u001b[0m\u001b[0;36m1\u001b[0m\u001b[0;34m:\u001b[0m\u001b[0;34m-\u001b[0m\u001b[0;36m1\u001b[0m\u001b[0;34m]\u001b[0m\u001b[0;34m)\u001b[0m\u001b[0;34m)\u001b[0m\u001b[0;34m)\u001b[0m\u001b[0;34m)\u001b[0m\u001b[0;34m\u001b[0m\u001b[0;34m\u001b[0m\u001b[0m\n\u001b[0m",
      "\u001b[0;31mValueError\u001b[0m: operands could not be broadcast together with shapes (19,) (4,) "
     ]
    }
   ],
   "source": [
    "# print max error\n",
    "\n",
    "print(np.max(np.abs(FD_sol-exact_sol(x[1:-1]))))"
   ]
  },
  {
   "cell_type": "markdown",
   "metadata": {
    "id": "EbHL94cyPFWM"
   },
   "source": [
    "**Exercise 1.** test for convergence and plot convergence plot"
   ]
  },
  {
   "cell_type": "code",
   "execution_count": 23,
   "metadata": {},
   "outputs": [
    {
     "data": {
      "image/png": "[encoded data removed]",
      "text/plain": [
       "<Figure size 432x288 with 1 Axes>"
      ]
     },
     "metadata": {
      "needs_background": "light"
     },
     "output_type": "display_data"
    }
   ],
   "source": [
    "def convergence(N = 100, n = 4):\n",
    "    x = np.linspace(a,b,N+1)\n",
    "    plt.plot(x[1:-1],exact_sol(x[1:-1]),color=\"red\",linewidth=5)\n",
    "    for i in range(n,N,4):\n",
    "        FD_sol = pois_prob(N = i)\n",
    "        x = np.linspace(a,b,i+1)\n",
    "        plt.plot(x[1:-1],FD_sol)\n",
    "    \n",
    "convergence(40)"
   ]
  },
  {
   "cell_type": "markdown",
   "metadata": {
    "id": "T2QXoNYhP228"
   },
   "source": [
    "**Exercise 2.** Solve the problem with nonhomogeneous Dirichlet conditions:\n",
    "\n",
    "$-\\alpha u''(x)=f(x) \\quad \\in (a,b)$\n",
    "\n",
    "$u(a)=u_a, \\quad u(b)=u_b$"
   ]
  },
  {
   "cell_type": "markdown",
   "metadata": {
    "id": "PWX-C4sbQd-p"
   },
   "source": [
    "For example, you could fix: $(a,b)=(0,\\pi/2)$, solution $u$ as before, $\\alpha=\\frac{1}{2}$"
   ]
  },
  {
   "cell_type": "code",
   "execution_count": 24,
   "metadata": {},
   "outputs": [
    {
     "data": {
      "text/plain": [
       "[<matplotlib.lines.Line2D at 0x7f374b235c30>]"
      ]
     },
     "execution_count": 24,
     "metadata": {},
     "output_type": "execute_result"
    },
    {
     "data": {
      "image/png": "[encoded data removed]",
      "text/plain": [
       "<Figure size 432x288 with 1 Axes>"
      ]
     },
     "metadata": {
      "needs_background": "light"
     },
     "output_type": "display_data"
    }
   ],
   "source": [
    "def gen_pois_prob(rhs, alpha, a, b, u_a, u_b, N):\n",
    "    h = (b - a) / N\n",
    "    A = np.diag(-2*np.ones(N-1)) + np.diag(np.ones(N-2),k=-1) + np.diag(np.ones(N-2),k=1)\n",
    "    F = [h**2/(-alpha)*rhs(a + h*i) for i in range(1,N)]\n",
    "    F[0]  = F[0]  - u_a\n",
    "    F[-1] = F[-1] - u_b\n",
    "    FD_sol = [u_a] \n",
    "    FD_sol += list(np.linalg.solve(A,F))\n",
    "    FD_sol.append(u_b)\n",
    "    x = np.linspace(a,b,N+1)\n",
    "    return x,FD_sol\n",
    "\n",
    "t = sym.var('t')\n",
    "my_f = sym.sin(t)\n",
    "rhs_f = sym.lambdify(t, my_f)\n",
    "\n",
    "x,sol = gen_pois_prob(rhs = rhs_f, alpha = .5, a = 0, b = np.pi/2, u_a = 0, u_b = 1, N = 100)\n",
    "plt.plot(x,sol)"
   ]
  },
  {
   "cell_type": "markdown",
   "metadata": {
    "id": "DwxTZDyTQ_cV"
   },
   "source": [
    "**Exercise 3.** Solve the problem with (homogeneous) Neumann conditions:\n",
    "\n",
    "$-\\alpha u''(x)=f(x) \\quad \\in (a,b)$\n",
    "\n",
    "$u(a)=u_a, \\quad u'(b)=0$"
   ]
  },
  {
   "cell_type": "markdown",
   "metadata": {
    "id": "9RTu8ZaBcUJ_"
   },
   "source": []
  },
  {
   "cell_type": "markdown",
   "metadata": {
    "id": "aySe91zwRMq3"
   },
   "source": [
    "For example, you could fix: $(a,b)=(0,\\pi/2)$, solution $u$ as before, $\\alpha=1$."
   ]
  },
  {
   "cell_type": "markdown",
   "metadata": {
    "id": "MyrPdJSCSOeG"
   },
   "source": [
    "**Exercise 4.** Solve the reaction-advection-diffusion problem (still with central differences):\n",
    "\n",
    "$-\\alpha u''(x)+\\beta u'(x)+\\gamma u(x)=f(x) \\quad \\in (a,b)$\n",
    "\n",
    "$u(a)=u_a, \\quad u(b)=u_b$\n"
   ]
  },
  {
   "cell_type": "code",
   "execution_count": 27,
   "metadata": {},
   "outputs": [],
   "source": [
    "def adv_rec_problem(rhs, alpha, beta, gamma, a, b, u_a, u_b, N):\n",
    "    h = (b - a) / N\n",
    "    \n",
    "    coeff_1 = -(alpha + (beta * h)/2)\n",
    "    coeff_2 = (2*alpha + h**2*gamma)\n",
    "    coeff_3 = -(alpha - (beta * h)/2)\n",
    "    \n",
    "    A = coeff_1 * np.diag(np.ones(N-2),k=-1) + coeff_2 * np.diag(np.ones(N-1)) + coeff_3 * np.diag(np.ones(N-2),k=1)\n",
    "    F = [h**2*rhs(a + h*i) for i in range(1,N)]\n",
    "    F[0]  = F[0]  + coeff_1 * u_a\n",
    "    F[-1] = F[-1] - coeff_3 * u_b\n",
    "    FD_sol = [u_a]\n",
    "    FD_sol += list(np.linalg.solve(A,F))\n",
    "    FD_sol.append(u_b)\n",
    "    x = np.linspace(a,b,N+1)\n",
    "    return x,FD_sol"
   ]
  },
  {
   "cell_type": "markdown",
   "metadata": {
    "id": "V7wJbF9dcdqr"
   },
   "source": [
    "**Exersie 6.** Consider again the problem from Exercise 4.\n",
    "\n",
    "Fix $a=0$, $b=1$, $u_a=1$, $u_b=0$ $f=0$.\n",
    "\n",
    "Try first with $\\alpha=\\beta=\\gamma=1$ and plot the solution.\n",
    "\n",
    "Next, try with $\\alpha=0.01$, and $\\beta=1$, $\\gamma=0$. What happens? Can you explain?"
   ]
  },
  {
   "cell_type": "code",
   "execution_count": 28,
   "metadata": {},
   "outputs": [
    {
     "data": {
      "text/plain": [
       "[<matplotlib.lines.Line2D at 0x7f3749cc48b0>]"
      ]
     },
     "execution_count": 28,
     "metadata": {},
     "output_type": "execute_result"
    },
    {
     "data": {
      "image/png": "[encoded data removed]",
      "text/plain": [
       "<Figure size 432x288 with 1 Axes>"
      ]
     },
     "metadata": {
      "needs_background": "light"
     },
     "output_type": "display_data"
    }
   ],
   "source": [
    "t = sym.var('t')\n",
    "my_f = 0\n",
    "rhs_f = sym.lambdify(t, my_f)\n",
    "\n",
    "x,sol = adv_rec_problem(rhs = rhs_f, alpha = 1, beta = 1, gamma = 1, a = 0, b = 1, u_a = 1, u_b = 0, N = 100)\n",
    "plt.plot(x,sol)"
   ]
  },
  {
   "cell_type": "code",
   "execution_count": 29,
   "metadata": {},
   "outputs": [
    {
     "data": {
      "text/plain": [
       "[<matplotlib.lines.Line2D at 0x7f37498e3d90>]"
      ]
     },
     "execution_count": 29,
     "metadata": {},
     "output_type": "execute_result"
    },
    {
     "data": {
      "image/png": "[encoded data removed]",
      "text/plain": [
       "<Figure size 432x288 with 1 Axes>"
      ]
     },
     "metadata": {
      "needs_background": "light"
     },
     "output_type": "display_data"
    }
   ],
   "source": [
    "x,sol = adv_rec_problem(rhs = rhs_f, alpha = 0.01, beta = 1, gamma = 0, a = 0, b = 1, u_a = 1, u_b = 0, N = 100)\n",
    "plt.plot(x,sol)"
   ]
  },
  {
   "cell_type": "markdown",
   "metadata": {
    "id": "j8p08w7TRj34"
   },
   "source": [
    "**Exercise 5.** Now take any of the problems above, but this time with data such that you do not know the exact solution. How would you test the order of convergence of the FD method?"
   ]
  }
 ],
 "metadata": {
  "colab": {
   "authorship_tag": "ABX9TyMB44PUPUfh4syakkIwGftm",
   "include_colab_link": true,
   "name": "C2.ipynb",
   "provenance": []
  },
  "kernelspec": {
   "display_name": "Python 3 (ipykernel)",
   "language": "python",
   "name": "python3"
  },
  "language_info": {
   "codemirror_mode": {
    "name": "ipython",
    "version": 3
   },
   "file_extension": ".py",
   "mimetype": "text/x-python",
   "name": "python",
   "nbconvert_exporter": "python",
   "pygments_lexer": "ipython3",
   "version": "3.10.6"
  }
 },
 "nbformat": 4,
 "nbformat_minor": 1
}
